{
 "cells": [
  {
   "cell_type": "code",
   "execution_count": 1,
   "metadata": {},
   "outputs": [],
   "source": [
    "# funcion f(x, y, z) = x + y + z\n",
    "\n",
    "def f(x, y, z):\n",
    "    resultado = x + y + z\n",
    "\n",
    "    return resultado    "
   ]
  },
  {
   "cell_type": "code",
   "execution_count": 3,
   "metadata": {},
   "outputs": [
    {
     "data": {
      "text/plain": [
       "6"
      ]
     },
     "execution_count": 3,
     "metadata": {},
     "output_type": "execute_result"
    }
   ],
   "source": [
    "f(x= 5,y=3, z=-2)"
   ]
  },
  {
   "cell_type": "markdown",
   "metadata": {},
   "source": [
    "#Pseudo Codigo"
   ]
  },
  {
   "cell_type": "markdown",
   "metadata": {},
   "source": [
    "* pipeline\n",
    "\n",
    "llamadaXXX.csv --> read_data --> save_data --> resumen_llamadaXXX.csv"
   ]
  },
  {
   "cell_type": "markdown",
   "metadata": {},
   "source": [
    "PSEUDO CODIGO\n",
    "def main()\n",
    "    get_data()\n",
    "    get_summary()\n",
    "    save_data()\n"
   ]
  },
  {
   "cell_type": "code",
   "execution_count": 4,
   "metadata": {},
   "outputs": [],
   "source": [
    "# quiero una funcion que me calcule:\n",
    "# 1. la suma de todos los numeros de una lista\n",
    "# 2. minimo valor de la lista\n",
    "# 3. maximo valor de la lista\n",
    "# 4. la media y la desviacion estadar"
   ]
  },
  {
   "cell_type": "code",
   "execution_count": 32,
   "metadata": {},
   "outputs": [],
   "source": [
    "import numpy as np\n",
    "def calcular_min_max(lista_numeros, verbose=True):\n",
    "    '''\n",
    "    Retorna los valores minimo y maximo de una ista de numeros\n",
    "    Args:\n",
    "        lista_numeros: type list\n",
    "    '''\n",
    "    min_value = min(lista_numeros)\n",
    "    max_value = max(lista_numeros)\n",
    "\n",
    "    if verbose == True:\n",
    "        print('Valor minimo:', min_value)\n",
    "        print('Valos maximo:', max_value)\n",
    "    else:\n",
    "        pass\n",
    "    return min_value, max_value \n",
    "\n",
    "def calcular_valores_centrales(lista_numeros, verbose=True):\n",
    "\n",
    "    \n",
    "\n",
    "    media   = np.mean(lista_numeros)\n",
    "    dev_std = np.std(lista_numeros)\n",
    "\n",
    "    if verbose == True:\n",
    "        print('Media:', media)\n",
    "        print('Desviacion Estandar:', dev_std)\n",
    "    else:\n",
    "        pass\n",
    "    return media, dev_std\n",
    "\n",
    "\n",
    "def calcular_valores(lista_numeros, verbose=True):\n",
    "\n",
    "    suma = np.sum(lista_numeros)# sum = calcular_suma(lista_numeros)\n",
    "    min_val, max_val = calcular_min_max(lista_numeros, verbose)\n",
    "    media, dev_std = calcular_valores_centrales(lista_numeros, verbose)\n",
    "    \n",
    "    return suma, min_val, max_val, media, dev_std\n",
    "     "
   ]
  },
  {
   "cell_type": "code",
   "execution_count": 33,
   "metadata": {},
   "outputs": [
    {
     "name": "stdout",
     "output_type": "stream",
     "text": [
      "Valor minimo: 4\n",
      "Valos maximo: 21\n",
      "Media: 9.5\n",
      "Desviacion Estandar: 6.800735254367722\n"
     ]
    },
    {
     "data": {
      "text/plain": [
       "(38, 4, 21, 9.5, 6.800735254367722)"
      ]
     },
     "execution_count": 33,
     "metadata": {},
     "output_type": "execute_result"
    }
   ],
   "source": [
    "lista_valores = [5, 4, 8, 21]\n",
    "\n",
    "calcular_valores(lista_numeros=lista_valores, verbose=True)"
   ]
  }
 ],
 "metadata": {
  "kernelspec": {
   "display_name": "Python 3.8.8 ('base')",
   "language": "python",
   "name": "python3"
  },
  "language_info": {
   "codemirror_mode": {
    "name": "ipython",
    "version": 3
   },
   "file_extension": ".py",
   "mimetype": "text/x-python",
   "name": "python",
   "nbconvert_exporter": "python",
   "pygments_lexer": "ipython3",
   "version": "3.8.8"
  },
  "orig_nbformat": 4,
  "vscode": {
   "interpreter": {
    "hash": "237108bc3992e4edc9a40a50b0037ef8b20de20185f21fee80dac2b6e7bb8673"
   }
  }
 },
 "nbformat": 4,
 "nbformat_minor": 2
}
